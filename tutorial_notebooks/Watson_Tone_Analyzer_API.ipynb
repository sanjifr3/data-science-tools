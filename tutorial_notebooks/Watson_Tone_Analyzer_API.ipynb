{
 "cells": [
  {
   "cell_type": "markdown",
   "metadata": {},
   "source": [
    "# MIE1624H - Watson Analytics - Tone Analyzer API Tutorial\n",
    "\n",
    "The Watson Analytics Tone Analyzer service analyzes the provided text or document for a variety of tones at both the document, and sentence level. It detects three types of tones: Emotion (anger, disgust, fear, joy, and sadness), social propensities (openness, conscientiousness, extroversion, agreeableness, and emotional range), and language styles (analytical, confident, and tentative). \n",
    "\n",
    "More information regarding this service can be found in the IBM Watson documentation:\n",
    "https://www.ibm.com/watson/developercloud/tone-analyzer/api/v3/\n"
   ]
  },
  {
   "cell_type": "markdown",
   "metadata": {},
   "source": [
    "#### Download necessary libraries"
   ]
  },
  {
   "cell_type": "code",
   "execution_count": 1,
   "metadata": {
    "collapsed": false
   },
   "outputs": [
    {
     "name": "stdout",
     "output_type": "stream",
     "text": [
      "Requirement already satisfied: watson-developer-cloud in /resources/common/.virtualenv/python3/lib/python3.5/site-packages\n",
      "Requirement already satisfied: pysolr<4.0,>=3.3 in /resources/common/.virtualenv/python3/lib/python3.5/site-packages (from watson-developer-cloud)\n",
      "Requirement already satisfied: pyOpenSSL>=16.2.0 in /resources/common/.virtualenv/python3/lib/python3.5/site-packages (from watson-developer-cloud)\n",
      "Requirement already satisfied: requests<3.0,>=2.0 in /usr/local/lib/python3.5/dist-packages (from watson-developer-cloud)\n",
      "Requirement already satisfied: python-dateutil>=2.5.3 in /usr/local/lib/python3.5/dist-packages (from watson-developer-cloud)\n",
      "Requirement already satisfied: cryptography>=2.1.4 in /resources/common/.virtualenv/python3/lib/python3.5/site-packages (from pyOpenSSL>=16.2.0->watson-developer-cloud)\n",
      "Requirement already satisfied: six>=1.5.2 in /usr/lib/python3/dist-packages (from pyOpenSSL>=16.2.0->watson-developer-cloud)\n",
      "Requirement already satisfied: cffi>=1.7; platform_python_implementation != \"PyPy\" in /usr/local/lib/python3.5/dist-packages (from cryptography>=2.1.4->pyOpenSSL>=16.2.0->watson-developer-cloud)\n",
      "Requirement already satisfied: idna>=2.1 in /usr/local/lib/python3.5/dist-packages (from cryptography>=2.1.4->pyOpenSSL>=16.2.0->watson-developer-cloud)\n",
      "Requirement already satisfied: asn1crypto>=0.21.0 in /resources/common/.virtualenv/python3/lib/python3.5/site-packages (from cryptography>=2.1.4->pyOpenSSL>=16.2.0->watson-developer-cloud)\n",
      "Requirement already satisfied: pycparser in /usr/local/lib/python3.5/dist-packages (from cffi>=1.7; platform_python_implementation != \"PyPy\"->cryptography>=2.1.4->pyOpenSSL>=16.2.0->watson-developer-cloud)\n"
     ]
    }
   ],
   "source": [
    "!pip install watson-developer-cloud"
   ]
  },
  {
   "cell_type": "markdown",
   "metadata": {},
   "source": [
    "#### Import necessary libraries"
   ]
  },
  {
   "cell_type": "code",
   "execution_count": 2,
   "metadata": {
    "collapsed": true
   },
   "outputs": [],
   "source": [
    "from watson_developer_cloud import ToneAnalyzerV3 as TA\n",
    "import json"
   ]
  },
  {
   "cell_type": "markdown",
   "metadata": {},
   "source": [
    "### Insert API credentials from Bluemix\n",
    "This is found by going the API's page and looking under 'Service Credentials'. The username and password can be viewed by clicking 'View Credentials' next to your Key Name.\n",
    "\n",
    "Copy the credentials and replace the contents of *watson_credentials.json*. Alternatively, you can just copy and paste the keys in the variables for username and password."
   ]
  },
  {
   "cell_type": "markdown",
   "metadata": {},
   "source": [
    "#### Parse watson_credentials.json file"
   ]
  },
  {
   "cell_type": "code",
   "execution_count": 3,
   "metadata": {
    "collapsed": true
   },
   "outputs": [],
   "source": [
    "credentials = {}\n",
    "\n",
    "with open('watson_credentials.json') as f:\n",
    "    data = json.load(f)\n",
    "    for k in data.keys():\n",
    "        try:\n",
    "            credentials[k] = {\n",
    "                'username': data[k][0]['credentials']['username'],\n",
    "                'password': data[k][0]['credentials']['password']\n",
    "            }\n",
    "        except KeyError:\n",
    "            credentials[k] = {\n",
    "                'api_key': data[k][0]['credentials']['api_key']\n",
    "            }"
   ]
  },
  {
   "cell_type": "markdown",
   "metadata": {},
   "source": [
    "#### Get username and password for TA\n",
    "Enter API username and password manually or add to watson credentials file."
   ]
  },
  {
   "cell_type": "code",
   "execution_count": 4,
   "metadata": {
    "collapsed": true
   },
   "outputs": [],
   "source": [
    "username = ''\n",
    "password = ''\n",
    "\n",
    "if username == '' and password == '':\n",
    "    username = credentials['tone_analyzer']['username']\n",
    "    password = credentials['tone_analyzer']['password']"
   ]
  },
  {
   "cell_type": "markdown",
   "metadata": {},
   "source": [
    "## Create Natural Language Classifier Instance"
   ]
  },
  {
   "cell_type": "code",
   "execution_count": 5,
   "metadata": {
    "collapsed": true
   },
   "outputs": [],
   "source": [
    "ta = TA(\n",
    "    username=username,\n",
    "    password=password,\n",
    "    version='2017-09-21'\n",
    ")"
   ]
  },
  {
   "cell_type": "markdown",
   "metadata": {},
   "source": [
    "## Analyze General Tone\n",
    "\n",
    "The general tone endpoint can be used to analyze the input for several types of tones (emotion, language, and social).\n",
    "\n",
    "Arguments:\n",
    "    - text (str): The plain text input to be analyzed (max: 128 kB)\n",
    "    - tones (str,[str,..]): comma separated list of types of tones to return. By default all are active. Options: ['emotion','language',social']\n",
    "    - sentences (bool): Whether or not to analyze tone by sentence or not. Default = true\n",
    "    - content type (str): 'text/plain' for plain text (default), 'text/html' for html formatted text, and 'application/json' for json formatted text \n",
    "    e.g. tone(text, tones='emotion')\n",
    "\n",
    "Only the text argument is required in the above arguments. "
   ]
  },
  {
   "cell_type": "markdown",
   "metadata": {},
   "source": [
    "## General Function to Analyze Tone"
   ]
  },
  {
   "cell_type": "code",
   "execution_count": 6,
   "metadata": {
    "collapsed": true
   },
   "outputs": [],
   "source": [
    "def getTones(txt, categories='', sentences=True):\n",
    "    if categories == '':\n",
    "        response = ta.tone({'text': txt},sentences=sentences)\n",
    "    else:\n",
    "        response = ta.tone({'text': txt},tones=categories,sentences=sentences)\n",
    "    \n",
    "    print ('Raw Output')\n",
    "    print (json.dumps(response,indent=2))\n",
    "    \n",
    "    # Populate dictionary\n",
    "    tones = {}\n",
    "    \n",
    "    for i in range(len(response['document_tone']['tones'])):\n",
    "        tone_name = response['document_tone']['tones'][i]['tone_name']\n",
    "        tones[tone_name] = response['document_tone']['tones'][i]['score']\n",
    "\n",
    "    return tones"
   ]
  },
  {
   "cell_type": "markdown",
   "metadata": {},
   "source": [
    "## Analyzing a String\n",
    "\n",
    "Here the tone analyzer API is called with the below tweet and the raw output is displayed."
   ]
  },
  {
   "cell_type": "code",
   "execution_count": 7,
   "metadata": {
    "collapsed": true
   },
   "outputs": [],
   "source": [
    "sample1 = \"can't decide if i should even watch the #democraticdebate or is it not worth the migraine!? #conservative #republican2016 #tcot #ycot\""
   ]
  },
  {
   "cell_type": "code",
   "execution_count": 8,
   "metadata": {
    "collapsed": false
   },
   "outputs": [
    {
     "name": "stdout",
     "output_type": "stream",
     "text": [
      "Raw Output\n",
      "{\n",
      "  \"document_tone\": {\n",
      "    \"tones\": [\n",
      "      {\n",
      "        \"tone_id\": \"analytical\",\n",
      "        \"score\": 0.882284,\n",
      "        \"tone_name\": \"Analytical\"\n",
      "      },\n",
      "      {\n",
      "        \"tone_id\": \"tentative\",\n",
      "        \"score\": 0.905166,\n",
      "        \"tone_name\": \"Tentative\"\n",
      "      }\n",
      "    ]\n",
      "  }\n",
      "}\n",
      "\n",
      "Dictionary Format\n",
      "{'Analytical': 0.882284, 'Tentative': 0.905166}\n"
     ]
    }
   ],
   "source": [
    "tones = getTones(sample1)\n",
    "print ('\\nDictionary Format')\n",
    "print (tones)"
   ]
  },
  {
   "cell_type": "markdown",
   "metadata": {},
   "source": [
    "## Analyzing a Text Document"
   ]
  },
  {
   "cell_type": "code",
   "execution_count": 9,
   "metadata": {
    "collapsed": false
   },
   "outputs": [
    {
     "name": "stdout",
     "output_type": "stream",
     "text": [
      "{\n",
      "  \"document_tone\": {\n",
      "    \"tones\": [\n",
      "      {\n",
      "        \"tone_id\": \"sadness\",\n",
      "        \"score\": 0.6165,\n",
      "        \"tone_name\": \"Sadness\"\n",
      "      },\n",
      "      {\n",
      "        \"tone_id\": \"analytical\",\n",
      "        \"score\": 0.829888,\n",
      "        \"tone_name\": \"Analytical\"\n",
      "      }\n",
      "    ]\n",
      "  },\n",
      "  \"sentences_tone\": [\n",
      "    {\n",
      "      \"text\": \"Team, I know that times are tough!\",\n",
      "      \"tones\": [\n",
      "        {\n",
      "          \"tone_id\": \"analytical\",\n",
      "          \"score\": 0.801827,\n",
      "          \"tone_name\": \"Analytical\"\n",
      "        }\n",
      "      ],\n",
      "      \"sentence_id\": 0\n",
      "    },\n",
      "    {\n",
      "      \"text\": \"Product sales have been disappointing for the past three quarters.\",\n",
      "      \"tones\": [\n",
      "        {\n",
      "          \"tone_id\": \"sadness\",\n",
      "          \"score\": 0.771241,\n",
      "          \"tone_name\": \"Sadness\"\n",
      "        },\n",
      "        {\n",
      "          \"tone_id\": \"analytical\",\n",
      "          \"score\": 0.687768,\n",
      "          \"tone_name\": \"Analytical\"\n",
      "        }\n",
      "      ],\n",
      "      \"sentence_id\": 1\n",
      "    },\n",
      "    {\n",
      "      \"text\": \"We have a competitive product, but we need to do a better job of selling it!\",\n",
      "      \"tones\": [\n",
      "        {\n",
      "          \"tone_id\": \"analytical\",\n",
      "          \"score\": 0.506763,\n",
      "          \"tone_name\": \"Analytical\"\n",
      "        }\n",
      "      ],\n",
      "      \"sentence_id\": 2\n",
      "    }\n",
      "  ]\n",
      "}\n"
     ]
    }
   ],
   "source": [
    "with open('tone.json') as tone_json:\n",
    "    response = ta.tone(tone_json.read())\n",
    "\n",
    "print(json.dumps(response, indent=2))"
   ]
  },
  {
   "cell_type": "code",
   "execution_count": 10,
   "metadata": {
    "collapsed": false
   },
   "outputs": [
    {
     "name": "stdout",
     "output_type": "stream",
     "text": [
      "The string: \n",
      "can't decide if i should even watch the #democraticdebate or is it not worth the migraine!? #conservative #republican2016 #tcot #ycot\n",
      "\n",
      "The document tones: {'Analytical': 0.829888, 'Sadness': 0.6165}\n"
     ]
    }
   ],
   "source": [
    "print(\"The string: \\n{}\".format(sample1))\n",
    "tones = {}\n",
    "\n",
    "for i in range(len(response['document_tone']['tones'])):\n",
    "    tone_name = response['document_tone']['tones'][i]['tone_name']\n",
    "    tones[tone_name] = response['document_tone']['tones'][i]['score']\n",
    "\n",
    "print (\"\\nThe document tones:\", tones)"
   ]
  },
  {
   "cell_type": "markdown",
   "metadata": {},
   "source": [
    "## Analyzing a JSON Conversation\n",
    "\n",
    "Here a JSON conversation is analyzed."
   ]
  },
  {
   "cell_type": "markdown",
   "metadata": {},
   "source": [
    "First here is the raw JSON output from the analyzer."
   ]
  },
  {
   "cell_type": "code",
   "execution_count": 11,
   "metadata": {
    "collapsed": false
   },
   "outputs": [
    {
     "name": "stdout",
     "output_type": "stream",
     "text": [
      "Raw Output\n",
      "{\n",
      "  \"utterances_tone\": [\n",
      "    {\n",
      "      \"utterance_text\": \"Hello, I'm having a problem with your product.\",\n",
      "      \"utterance_id\": 0,\n",
      "      \"tones\": [\n",
      "        {\n",
      "          \"tone_id\": \"polite\",\n",
      "          \"score\": 0.718352,\n",
      "          \"tone_name\": \"Polite\"\n",
      "        }\n",
      "      ]\n",
      "    },\n",
      "    {\n",
      "      \"utterance_text\": \"OK, let me know what's going on, please.\",\n",
      "      \"utterance_id\": 1,\n",
      "      \"tones\": []\n",
      "    },\n",
      "    {\n",
      "      \"utterance_text\": \"Well, nothing is working :(\",\n",
      "      \"utterance_id\": 2,\n",
      "      \"tones\": [\n",
      "        {\n",
      "          \"tone_id\": \"sad\",\n",
      "          \"score\": 0.997149,\n",
      "          \"tone_name\": \"sad\"\n",
      "        }\n",
      "      ]\n",
      "    },\n",
      "    {\n",
      "      \"utterance_text\": \"Sorry to hear that.\",\n",
      "      \"utterance_id\": 3,\n",
      "      \"tones\": [\n",
      "        {\n",
      "          \"tone_id\": \"polite\",\n",
      "          \"score\": 0.689109,\n",
      "          \"tone_name\": \"Polite\"\n",
      "        },\n",
      "        {\n",
      "          \"tone_id\": \"sympathetic\",\n",
      "          \"score\": 0.663203,\n",
      "          \"tone_name\": \"Sympathetic\"\n",
      "        }\n",
      "      ]\n",
      "    }\n",
      "  ]\n",
      "}\n"
     ]
    }
   ],
   "source": [
    "with open('tone-chat.json') as tone_json:\n",
    "  response = ta.tone_chat(json.load(tone_json)['utterances'])\n",
    "\n",
    "print ('Raw Output')\n",
    "print(json.dumps(response, indent=2))"
   ]
  },
  {
   "cell_type": "markdown",
   "metadata": {},
   "source": [
    "Now lets intrepret the output. Below, the user and what they said and the corresponding tones associated with what was said is shown."
   ]
  },
  {
   "cell_type": "code",
   "execution_count": 12,
   "metadata": {
    "collapsed": false
   },
   "outputs": [
    {
     "name": "stdout",
     "output_type": "stream",
     "text": [
      "customer : Hello, I'm having a problem with your product. ['Polite']\n",
      "agent : OK, let me know what's going on, please. []\n",
      "customer : Well, nothing is working :( ['sad']\n",
      "agent : Sorry to hear that. ['Polite', 'Sympathetic']\n"
     ]
    }
   ],
   "source": [
    "names = []\n",
    "with open('tone-chat.json') as tone_json:\n",
    "    utterances = json.load(tone_json)['utterances']\n",
    "    for i in range(len(utterances)):\n",
    "        names.append(utterances[i]['user'])\n",
    "\n",
    "\n",
    "for i in range(len(response['utterances_tone'])):\n",
    "    tones = []\n",
    "    for tone in response['utterances_tone'][i]['tones']:\n",
    "        tones.append(tone['tone_name'])\n",
    "    print (names[i],\":\",response['utterances_tone'][i]['utterance_text'],tones)"
   ]
  }
 ],
 "metadata": {
  "kernelspec": {
   "display_name": "Python 3",
   "language": "python",
   "name": "python3"
  },
  "language_info": {
   "codemirror_mode": {
    "name": "ipython",
    "version": 3
   },
   "file_extension": ".py",
   "mimetype": "text/x-python",
   "name": "python",
   "nbconvert_exporter": "python",
   "pygments_lexer": "ipython3",
   "version": "3.5.2"
  },
  "widgets": {
   "state": {},
   "version": "1.1.2"
  }
 },
 "nbformat": 4,
 "nbformat_minor": 2
}
